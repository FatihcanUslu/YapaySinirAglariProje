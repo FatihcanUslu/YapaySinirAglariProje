{
  "nbformat": 4,
  "nbformat_minor": 0,
  "metadata": {
    "colab": {
      "provenance": [],
      "gpuType": "T4"
    },
    "kernelspec": {
      "name": "python3",
      "display_name": "Python 3"
    },
    "language_info": {
      "name": "python"
    },
    "accelerator": "GPU",
    "gpuClass": "standard"
  },
  "cells": [
    {
      "cell_type": "markdown",
      "source": [
        "Yalnızca tek bir gizli katman içeren CNN"
      ],
      "metadata": {
        "id": "u9yUQT93EqS6"
      }
    },
    {
      "cell_type": "markdown",
      "source": [
        "Gereksinimler:"
      ],
      "metadata": {
        "id": "cWe2CdC89mSv"
      }
    },
    {
      "cell_type": "code",
      "execution_count": null,
      "metadata": {
        "id": "B_XbbHU96Riv"
      },
      "outputs": [],
      "source": [
        "!pip install numpy\n",
        "!pip install tensorflow\n",
        "!pip install keras\n",
        "!pip install opencv-python\n",
        "!pip install pandas"
      ]
    },
    {
      "cell_type": "markdown",
      "source": [
        "Veriyi zip'ten çıkarma:"
      ],
      "metadata": {
        "id": "nayrAeun-DLP"
      }
    },
    {
      "cell_type": "code",
      "source": [
        "import zipfile\n",
        "\n",
        "# zip dosyasının yolu\n",
        "zip_file_path = \"/content/drive/MyDrive/ChestXray.zip\"\n",
        "\n",
        "# zip dosyasını aç\n",
        "with zipfile.ZipFile(zip_file_path, 'r') as zip_ref:\n",
        "    zip_ref.extractall(\"/content/veri\")"
      ],
      "metadata": {
        "id": "b6YRcg9y9-tp"
      },
      "execution_count": 2,
      "outputs": []
    },
    {
      "cell_type": "markdown",
      "source": [
        "Veriyi parçalara bölme:"
      ],
      "metadata": {
        "id": "GvbX6E86-qyQ"
      }
    },
    {
      "cell_type": "code",
      "source": [
        "import os\n",
        "import cv2\n",
        "import numpy as np\n",
        "\n",
        "def load_data():\n",
        "    normal_path = '/content/veri/ChestXray/NORMAL'\n",
        "    pneumonia_path = '/content/veri/ChestXray/PNEUMONIA'\n",
        "    \n",
        "    normal_images = []\n",
        "    pneumonia_images = []\n",
        "    labels = []\n",
        "    \n",
        "    for filename in os.listdir(normal_path):\n",
        "        img = cv2.imread(os.path.join(normal_path, filename))\n",
        "        img = cv2.cvtColor(img, cv2.COLOR_BGR2GRAY)\n",
        "        img = cv2.resize(img, (256, 256))\n",
        "        normal_images.append(img)\n",
        "        labels.append(0)\n",
        "        \n",
        "    for filename in os.listdir(pneumonia_path):\n",
        "        img = cv2.imread(os.path.join(pneumonia_path, filename))\n",
        "        img = cv2.cvtColor(img, cv2.COLOR_BGR2GRAY)\n",
        "        img = cv2.resize(img, (256, 256))\n",
        "        pneumonia_images.append(img)\n",
        "        labels.append(1)\n",
        "        \n",
        "    normal_images = np.array(normal_images)\n",
        "    pneumonia_images = np.array(pneumonia_images)\n",
        "    labels = np.array(labels)\n",
        "    \n",
        "    return normal_images, pneumonia_images, labels\n",
        "normal_images,pneumonia_images,labels=load_data()"
      ],
      "metadata": {
        "id": "eSpwhM79-vz4"
      },
      "execution_count": 12,
      "outputs": []
    },
    {
      "cell_type": "markdown",
      "source": [
        "Veriyi train-test olarak bölme:"
      ],
      "metadata": {
        "id": "Gxlm-Qn0A9Cw"
      }
    },
    {
      "cell_type": "code",
      "source": [
        "from sklearn.model_selection import train_test_split\n",
        "from keras.models import Sequential\n",
        "from keras.layers import Flatten, Dense\n",
        "from keras.utils import to_categorical\n",
        "\n",
        "all_images = np.concatenate((normal_images, pneumonia_images))\n",
        "all_images = np.expand_dims(all_images, axis=-1) # kanal boyutunu ekleyin\n",
        "all_labels = np.concatenate((np.zeros(len(normal_images)), np.ones(len(pneumonia_images))))\n",
        "x_train, x_test, y_train, y_test = train_test_split(all_images, all_labels, test_size=0.2)\n",
        "\n",
        "y_train = to_categorical(y_train, num_classes=2)\n",
        "y_test = to_categorical(y_test, num_classes=2)"
      ],
      "metadata": {
        "id": "cSFWVqGKA7oY"
      },
      "execution_count": 13,
      "outputs": []
    },
    {
      "cell_type": "markdown",
      "source": [
        "İleri Beslemeli Sinir Ağı modeli ve eğitim:"
      ],
      "metadata": {
        "id": "3nCVm0nqBpUn"
      }
    },
    {
      "cell_type": "code",
      "source": [
        "from keras.models import Sequential\n",
        "from keras.layers import Conv2D, MaxPooling2D, Flatten, Dense\n",
        "img_size = (256, 256)\n",
        "from keras.callbacks import EarlyStopping\n",
        "\n",
        "early_stop = EarlyStopping(monitor='val_loss', patience=5)\n",
        "\n",
        "hidden_layers = 2 # istediğiniz gizli katman sayısı\n",
        "\n",
        "model = Sequential()\n",
        "\n",
        "model.add(Conv2D(32, (3,3), activation='relu', input_shape=(img_size[0], img_size[1], 1)))\n",
        "model.add(MaxPooling2D((2,2)))\n",
        "\n",
        "for i in range(hidden_layers):\n",
        "    model.add(Conv2D(64, (3,3), activation='relu'))\n",
        "    model.add(MaxPooling2D((2,2)))\n",
        "\n",
        "model.add(Flatten())\n",
        "model.add(Dense(128, activation='relu'))\n",
        "model.add(Dense(2, activation='softmax'))\n",
        "\n",
        "model.compile(optimizer='adam', loss='categorical_crossentropy', metrics=['accuracy'])\n",
        "history = model.fit(x_train, y_train, validation_data=(x_test, y_test), epochs=40, batch_size=64,callbacks=[early_stop])"
      ],
      "metadata": {
        "id": "4QYP1sVzBtag",
        "colab": {
          "base_uri": "https://localhost:8080/"
        },
        "outputId": "8f070c74-3001-4f88-8905-a36f581994a3"
      },
      "execution_count": 18,
      "outputs": [
        {
          "output_type": "stream",
          "name": "stdout",
          "text": [
            "Epoch 1/40\n",
            "42/42 [==============================] - 6s 104ms/step - loss: 47.5195 - accuracy: 0.7288 - val_loss: 0.2587 - val_accuracy: 0.8938\n",
            "Epoch 2/40\n",
            "42/42 [==============================] - 4s 93ms/step - loss: 0.1906 - accuracy: 0.9275 - val_loss: 0.1871 - val_accuracy: 0.9378\n",
            "Epoch 3/40\n",
            "42/42 [==============================] - 4s 93ms/step - loss: 0.1365 - accuracy: 0.9510 - val_loss: 0.1411 - val_accuracy: 0.9484\n",
            "Epoch 4/40\n",
            "42/42 [==============================] - 4s 93ms/step - loss: 0.0954 - accuracy: 0.9628 - val_loss: 0.1385 - val_accuracy: 0.9575\n",
            "Epoch 5/40\n",
            "42/42 [==============================] - 4s 93ms/step - loss: 0.0770 - accuracy: 0.9715 - val_loss: 0.1537 - val_accuracy: 0.9484\n",
            "Epoch 6/40\n",
            "42/42 [==============================] - 4s 94ms/step - loss: 0.0532 - accuracy: 0.9810 - val_loss: 0.1638 - val_accuracy: 0.9378\n",
            "Epoch 7/40\n",
            "42/42 [==============================] - 4s 93ms/step - loss: 0.0683 - accuracy: 0.9761 - val_loss: 0.1619 - val_accuracy: 0.9439\n",
            "Epoch 8/40\n",
            "42/42 [==============================] - 4s 90ms/step - loss: 0.0786 - accuracy: 0.9708 - val_loss: 0.2750 - val_accuracy: 0.9029\n",
            "Epoch 9/40\n",
            "42/42 [==============================] - 4s 94ms/step - loss: 0.0635 - accuracy: 0.9784 - val_loss: 0.2685 - val_accuracy: 0.9029\n"
          ]
        }
      ]
    },
    {
      "cell_type": "markdown",
      "source": [
        "Loss-Accuracy tablosu:"
      ],
      "metadata": {
        "id": "hfibTuJWH518"
      }
    },
    {
      "cell_type": "code",
      "source": [
        "import pandas as pd\n",
        "df = pd.DataFrame(model.history.history)\n",
        "loss=df.drop([\"accuracy\",\"val_accuracy\"],axis=1)\n",
        "accuracy=df.drop([\"loss\",\"val_loss\"],axis=1)\n",
        "loss.plot()\n",
        "accuracy.plot()"
      ],
      "metadata": {
        "colab": {
          "base_uri": "https://localhost:8080/",
          "height": 860
        },
        "id": "NwTBt9vwH-EB",
        "outputId": "69ab4466-ea73-4e2c-e43d-e60bb4f3418a"
      },
      "execution_count": 19,
      "outputs": [
        {
          "output_type": "execute_result",
          "data": {
            "text/plain": [
              "<Axes: >"
            ]
          },
          "metadata": {},
          "execution_count": 19
        },
        {
          "output_type": "display_data",
          "data": {
            "text/plain": [
              "<Figure size 640x480 with 1 Axes>"
            ],
            "image/png": "[encoded data removed]"
          },
          "metadata": {}
        },
        {
          "output_type": "display_data",
          "data": {
            "text/plain": [
              "<Figure size 640x480 with 1 Axes>"
            ],
            "image/png": "[encoded data removed]"
          },
          "metadata": {}
        }
      ]
    },
    {
      "cell_type": "markdown",
      "source": [
        "Test:"
      ],
      "metadata": {
        "id": "UXyV4S7gCMEh"
      }
    },
    {
      "cell_type": "code",
      "source": [
        "loss, accuracy = model.evaluate(x_test, y_test)\n",
        "print('Test Loss:', loss)\n",
        "print('Test Accuracy:', accuracy)"
      ],
      "metadata": {
        "id": "YtO4pFA0CNpg",
        "colab": {
          "base_uri": "https://localhost:8080/"
        },
        "outputId": "6b9594b7-d414-4dfb-dddf-66edbcf3fa43"
      },
      "execution_count": 20,
      "outputs": [
        {
          "output_type": "stream",
          "name": "stdout",
          "text": [
            "21/21 [==============================] - 0s 17ms/step - loss: 0.2685 - accuracy: 0.9029\n",
            "Test Loss: 0.2685064375400543\n",
            "Test Accuracy: 0.9028831720352173\n"
          ]
        }
      ]
    }
  ]
}