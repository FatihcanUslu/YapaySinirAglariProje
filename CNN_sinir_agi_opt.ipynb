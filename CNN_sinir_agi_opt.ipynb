{
  "nbformat": 4,
  "nbformat_minor": 0,
  "metadata": {
    "colab": {
      "provenance": [],
      "gpuType": "T4"
    },
    "kernelspec": {
      "name": "python3",
      "display_name": "Python 3"
    },
    "language_info": {
      "name": "python"
    },
    "accelerator": "GPU",
    "gpuClass": "standard"
  },
  "cells": [
    {
      "cell_type": "markdown",
      "source": [
        "Yalnızca tek bir gizli katman içeren CNN"
      ],
      "metadata": {
        "id": "u9yUQT93EqS6"
      }
    },
    {
      "cell_type": "markdown",
      "source": [
        "Gereksinimler:"
      ],
      "metadata": {
        "id": "cWe2CdC89mSv"
      }
    },
    {
      "cell_type": "code",
      "execution_count": null,
      "metadata": {
        "id": "B_XbbHU96Riv"
      },
      "outputs": [],
      "source": [
        "!pip install numpy\n",
        "!pip install tensorflow\n",
        "!pip install keras\n",
        "!pip install opencv-python\n",
        "!pip install pandas"
      ]
    },
    {
      "cell_type": "markdown",
      "source": [
        "Veriyi zip'ten çıkarma:"
      ],
      "metadata": {
        "id": "nayrAeun-DLP"
      }
    },
    {
      "cell_type": "code",
      "source": [
        "import zipfile\n",
        "\n",
        "# zip dosyasının yolu\n",
        "zip_file_path = \"/content/drive/MyDrive/ChestXray.zip\"\n",
        "\n",
        "# zip dosyasını aç\n",
        "with zipfile.ZipFile(zip_file_path, 'r') as zip_ref:\n",
        "    zip_ref.extractall(\"/content/veri\")"
      ],
      "metadata": {
        "id": "b6YRcg9y9-tp"
      },
      "execution_count": 2,
      "outputs": []
    },
    {
      "cell_type": "markdown",
      "source": [
        "Veriyi parçalara bölme:"
      ],
      "metadata": {
        "id": "GvbX6E86-qyQ"
      }
    },
    {
      "cell_type": "code",
      "source": [
        "import os\n",
        "import cv2\n",
        "import numpy as np\n",
        "\n",
        "def load_data():\n",
        "    normal_path = '/content/veri/ChestXray/NORMAL'\n",
        "    pneumonia_path = '/content/veri/ChestXray/PNEUMONIA'\n",
        "    \n",
        "    normal_images = []\n",
        "    pneumonia_images = []\n",
        "    labels = []\n",
        "    \n",
        "    for filename in os.listdir(normal_path):\n",
        "        img = cv2.imread(os.path.join(normal_path, filename))\n",
        "        img = cv2.cvtColor(img, cv2.COLOR_BGR2GRAY)\n",
        "        img = cv2.resize(img, (128, 128))\n",
        "        normal_images.append(img)\n",
        "        labels.append(0)\n",
        "        \n",
        "    for filename in os.listdir(pneumonia_path):\n",
        "        img = cv2.imread(os.path.join(pneumonia_path, filename))\n",
        "        img = cv2.cvtColor(img, cv2.COLOR_BGR2GRAY)\n",
        "        img = cv2.resize(img, (128, 128))\n",
        "        pneumonia_images.append(img)\n",
        "        labels.append(1)\n",
        "        \n",
        "    normal_images = np.array(normal_images)\n",
        "    pneumonia_images = np.array(pneumonia_images)\n",
        "    labels = np.array(labels)\n",
        "    \n",
        "    return normal_images, pneumonia_images, labels\n",
        "normal_images,pneumonia_images,labels=load_data()"
      ],
      "metadata": {
        "id": "eSpwhM79-vz4"
      },
      "execution_count": null,
      "outputs": []
    },
    {
      "cell_type": "markdown",
      "source": [
        "Veriyi train-test olarak bölme:"
      ],
      "metadata": {
        "id": "Gxlm-Qn0A9Cw"
      }
    },
    {
      "cell_type": "code",
      "source": [
        "from sklearn.model_selection import train_test_split\n",
        "from keras.models import Sequential\n",
        "from keras.layers import Flatten, Dense\n",
        "from keras.utils import to_categorical\n",
        "\n",
        "all_images = np.concatenate((normal_images, pneumonia_images))\n",
        "all_images = np.expand_dims(all_images, axis=-1) # kanal boyutunu ekleyin\n",
        "all_labels = np.concatenate((np.zeros(len(normal_images)), np.ones(len(pneumonia_images))))\n",
        "x_train, x_test, y_train, y_test = train_test_split(all_images, all_labels, test_size=0.2)\n",
        "\n",
        "y_train = to_categorical(y_train, num_classes=2)\n",
        "y_test = to_categorical(y_test, num_classes=2)"
      ],
      "metadata": {
        "id": "cSFWVqGKA7oY"
      },
      "execution_count": 4,
      "outputs": []
    },
    {
      "cell_type": "markdown",
      "source": [
        "İleri Beslemeli Sinir Ağı modeli ve eğitim:"
      ],
      "metadata": {
        "id": "3nCVm0nqBpUn"
      }
    },
    {
      "cell_type": "code",
      "source": [
        "from keras.models import Sequential\n",
        "from keras.layers import Conv2D, MaxPooling2D, Flatten, Dense\n",
        "img_size = (128, 128)\n",
        "\n",
        "hidden_layers = 2 # istediğiniz gizli katman sayısı\n",
        "\n",
        "model = Sequential()\n",
        "\n",
        "model.add(Conv2D(32, (3,3), activation='relu', input_shape=(img_size[0], img_size[1], 1)))\n",
        "model.add(MaxPooling2D((2,2)))\n",
        "\n",
        "for i in range(hidden_layers):\n",
        "    model.add(Conv2D(64, (3,3), activation='relu'))\n",
        "    model.add(MaxPooling2D((2,2)))\n",
        "\n",
        "model.add(Flatten())\n",
        "model.add(Dense(128, activation='relu'))\n",
        "model.add(Dense(2, activation='softmax'))\n",
        "\n",
        "model.compile(optimizer='adam', loss='categorical_crossentropy', metrics=['accuracy'])\n",
        "history = model.fit(x_train, y_train, validation_data=(x_test, y_test), epochs=40, batch_size=64)"
      ],
      "metadata": {
        "id": "4QYP1sVzBtag",
        "colab": {
          "base_uri": "https://localhost:8080/"
        },
        "outputId": "113038d5-7d32-4353-bd0a-03c11eb81675"
      },
      "execution_count": 8,
      "outputs": [
        {
          "output_type": "stream",
          "name": "stdout",
          "text": [
            "Epoch 1/40\n",
            "42/42 [==============================] - 5s 45ms/step - loss: 7.4519 - accuracy: 0.7178 - val_loss: 0.1886 - val_accuracy: 0.9241\n",
            "Epoch 2/40\n",
            "42/42 [==============================] - 2s 37ms/step - loss: 0.2056 - accuracy: 0.9218 - val_loss: 0.1592 - val_accuracy: 0.9332\n",
            "Epoch 3/40\n",
            "42/42 [==============================] - 1s 29ms/step - loss: 0.1729 - accuracy: 0.9351 - val_loss: 0.1545 - val_accuracy: 0.9393\n",
            "Epoch 4/40\n",
            "42/42 [==============================] - 1s 27ms/step - loss: 0.1287 - accuracy: 0.9559 - val_loss: 0.1739 - val_accuracy: 0.9332\n",
            "Epoch 5/40\n",
            "42/42 [==============================] - 1s 25ms/step - loss: 0.1215 - accuracy: 0.9518 - val_loss: 0.1609 - val_accuracy: 0.9317\n",
            "Epoch 6/40\n",
            "42/42 [==============================] - 1s 25ms/step - loss: 0.1023 - accuracy: 0.9594 - val_loss: 0.1450 - val_accuracy: 0.9423\n",
            "Epoch 7/40\n",
            "42/42 [==============================] - 1s 27ms/step - loss: 0.0825 - accuracy: 0.9651 - val_loss: 0.1344 - val_accuracy: 0.9469\n",
            "Epoch 8/40\n",
            "42/42 [==============================] - 1s 27ms/step - loss: 0.0568 - accuracy: 0.9791 - val_loss: 0.1384 - val_accuracy: 0.9439\n",
            "Epoch 9/40\n",
            "42/42 [==============================] - 1s 27ms/step - loss: 0.0580 - accuracy: 0.9803 - val_loss: 0.2213 - val_accuracy: 0.9256\n",
            "Epoch 10/40\n",
            "42/42 [==============================] - 1s 25ms/step - loss: 0.0623 - accuracy: 0.9776 - val_loss: 0.1809 - val_accuracy: 0.9317\n",
            "Epoch 11/40\n",
            "42/42 [==============================] - 1s 25ms/step - loss: 0.0385 - accuracy: 0.9878 - val_loss: 0.2262 - val_accuracy: 0.9241\n",
            "Epoch 12/40\n",
            "42/42 [==============================] - 1s 27ms/step - loss: 0.0357 - accuracy: 0.9863 - val_loss: 0.2029 - val_accuracy: 0.9241\n",
            "Epoch 13/40\n",
            "42/42 [==============================] - 1s 29ms/step - loss: 0.0398 - accuracy: 0.9856 - val_loss: 0.1734 - val_accuracy: 0.9484\n",
            "Epoch 14/40\n",
            "42/42 [==============================] - 1s 29ms/step - loss: 0.0188 - accuracy: 0.9932 - val_loss: 0.1828 - val_accuracy: 0.9439\n",
            "Epoch 15/40\n",
            "42/42 [==============================] - 1s 28ms/step - loss: 0.0305 - accuracy: 0.9875 - val_loss: 0.2275 - val_accuracy: 0.9332\n",
            "Epoch 16/40\n",
            "42/42 [==============================] - 1s 25ms/step - loss: 0.0291 - accuracy: 0.9878 - val_loss: 0.2272 - val_accuracy: 0.9469\n",
            "Epoch 17/40\n",
            "42/42 [==============================] - 1s 25ms/step - loss: 0.0263 - accuracy: 0.9897 - val_loss: 0.4260 - val_accuracy: 0.9317\n",
            "Epoch 18/40\n",
            "42/42 [==============================] - 1s 26ms/step - loss: 0.0211 - accuracy: 0.9920 - val_loss: 0.2578 - val_accuracy: 0.9423\n",
            "Epoch 19/40\n",
            "42/42 [==============================] - 1s 27ms/step - loss: 0.0128 - accuracy: 0.9958 - val_loss: 0.2086 - val_accuracy: 0.9469\n",
            "Epoch 20/40\n",
            "42/42 [==============================] - 1s 26ms/step - loss: 0.0109 - accuracy: 0.9966 - val_loss: 0.2702 - val_accuracy: 0.9363\n",
            "Epoch 21/40\n",
            "42/42 [==============================] - 1s 27ms/step - loss: 0.0095 - accuracy: 0.9962 - val_loss: 0.2653 - val_accuracy: 0.9514\n",
            "Epoch 22/40\n",
            "42/42 [==============================] - 1s 26ms/step - loss: 0.0035 - accuracy: 0.9989 - val_loss: 0.2514 - val_accuracy: 0.9439\n",
            "Epoch 23/40\n",
            "42/42 [==============================] - 1s 26ms/step - loss: 0.0011 - accuracy: 1.0000 - val_loss: 0.2543 - val_accuracy: 0.9499\n",
            "Epoch 24/40\n",
            "42/42 [==============================] - 1s 28ms/step - loss: 5.3954e-04 - accuracy: 1.0000 - val_loss: 0.2661 - val_accuracy: 0.9454\n",
            "Epoch 25/40\n",
            "42/42 [==============================] - 1s 29ms/step - loss: 3.8401e-04 - accuracy: 1.0000 - val_loss: 0.2755 - val_accuracy: 0.9469\n",
            "Epoch 26/40\n",
            "42/42 [==============================] - 1s 28ms/step - loss: 3.0529e-04 - accuracy: 1.0000 - val_loss: 0.2826 - val_accuracy: 0.9499\n",
            "Epoch 27/40\n",
            "42/42 [==============================] - 1s 27ms/step - loss: 2.4422e-04 - accuracy: 1.0000 - val_loss: 0.2896 - val_accuracy: 0.9469\n",
            "Epoch 28/40\n",
            "42/42 [==============================] - 1s 27ms/step - loss: 2.0343e-04 - accuracy: 1.0000 - val_loss: 0.2932 - val_accuracy: 0.9469\n",
            "Epoch 29/40\n",
            "42/42 [==============================] - 1s 27ms/step - loss: 1.8180e-04 - accuracy: 1.0000 - val_loss: 0.2948 - val_accuracy: 0.9499\n",
            "Epoch 30/40\n",
            "42/42 [==============================] - 1s 25ms/step - loss: 1.6189e-04 - accuracy: 1.0000 - val_loss: 0.2957 - val_accuracy: 0.9484\n",
            "Epoch 31/40\n",
            "42/42 [==============================] - 1s 27ms/step - loss: 1.4219e-04 - accuracy: 1.0000 - val_loss: 0.2999 - val_accuracy: 0.9469\n",
            "Epoch 32/40\n",
            "42/42 [==============================] - 1s 27ms/step - loss: 1.2862e-04 - accuracy: 1.0000 - val_loss: 0.3026 - val_accuracy: 0.9484\n",
            "Epoch 33/40\n",
            "42/42 [==============================] - 1s 25ms/step - loss: 1.2025e-04 - accuracy: 1.0000 - val_loss: 0.3030 - val_accuracy: 0.9484\n",
            "Epoch 34/40\n",
            "42/42 [==============================] - 1s 25ms/step - loss: 1.1462e-04 - accuracy: 1.0000 - val_loss: 0.3074 - val_accuracy: 0.9484\n",
            "Epoch 35/40\n",
            "42/42 [==============================] - 1s 27ms/step - loss: 1.0064e-04 - accuracy: 1.0000 - val_loss: 0.3144 - val_accuracy: 0.9499\n",
            "Epoch 36/40\n",
            "42/42 [==============================] - 1s 26ms/step - loss: 9.3006e-05 - accuracy: 1.0000 - val_loss: 0.3105 - val_accuracy: 0.9499\n",
            "Epoch 37/40\n",
            "42/42 [==============================] - 1s 29ms/step - loss: 8.6003e-05 - accuracy: 1.0000 - val_loss: 0.3106 - val_accuracy: 0.9514\n",
            "Epoch 38/40\n",
            "42/42 [==============================] - 1s 28ms/step - loss: 8.0901e-05 - accuracy: 1.0000 - val_loss: 0.3116 - val_accuracy: 0.9514\n",
            "Epoch 39/40\n",
            "42/42 [==============================] - 1s 27ms/step - loss: 7.3102e-05 - accuracy: 1.0000 - val_loss: 0.3107 - val_accuracy: 0.9514\n",
            "Epoch 40/40\n",
            "42/42 [==============================] - 1s 27ms/step - loss: 6.6728e-05 - accuracy: 1.0000 - val_loss: 0.3134 - val_accuracy: 0.9514\n"
          ]
        }
      ]
    },
    {
      "cell_type": "markdown",
      "source": [
        "Loss-Accuracy tablosu:"
      ],
      "metadata": {
        "id": "hfibTuJWH518"
      }
    },
    {
      "cell_type": "code",
      "source": [
        "import pandas as pd\n",
        "df = pd.DataFrame(model.history.history)\n",
        "loss=df.drop([\"accuracy\",\"val_accuracy\"],axis=1)\n",
        "accuracy=df.drop([\"loss\",\"val_loss\"],axis=1)\n",
        "loss.plot()\n",
        "accuracy.plot()"
      ],
      "metadata": {
        "colab": {
          "base_uri": "https://localhost:8080/",
          "height": 860
        },
        "id": "NwTBt9vwH-EB",
        "outputId": "2c00d4d7-2784-4ed3-db7c-1086a3361dc5"
      },
      "execution_count": 9,
      "outputs": [
        {
          "output_type": "execute_result",
          "data": {
            "text/plain": [
              "<Axes: >"
            ]
          },
          "metadata": {},
          "execution_count": 9
        },
        {
          "output_type": "display_data",
          "data": {
            "text/plain": [
              "<Figure size 640x480 with 1 Axes>"
            ],
            "image/png": "[encoded data removed]"
          },
          "metadata": {}
        },
        {
          "output_type": "display_data",
          "data": {
            "text/plain": [
              "<Figure size 640x480 with 1 Axes>"
            ],
            "image/png": "[encoded data removed]"
          },
          "metadata": {}
        }
      ]
    },
    {
      "cell_type": "markdown",
      "source": [
        "Test:"
      ],
      "metadata": {
        "id": "UXyV4S7gCMEh"
      }
    },
    {
      "cell_type": "code",
      "source": [
        "loss, accuracy = model.evaluate(x_test, y_test)\n",
        "print('Test Loss:', loss)\n",
        "print('Test Accuracy:', accuracy)"
      ],
      "metadata": {
        "id": "YtO4pFA0CNpg",
        "colab": {
          "base_uri": "https://localhost:8080/"
        },
        "outputId": "9d6ec85b-7c71-41db-8189-aa8844823469"
      },
      "execution_count": 10,
      "outputs": [
        {
          "output_type": "stream",
          "name": "stdout",
          "text": [
            "21/21 [==============================] - 0s 6ms/step - loss: 0.3134 - accuracy: 0.9514\n",
            "Test Loss: 0.31337684392929077\n",
            "Test Accuracy: 0.9514415860176086\n"
          ]
        }
      ]
    }
  ]
}