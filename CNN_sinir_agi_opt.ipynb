{
  "nbformat": 4,
  "nbformat_minor": 0,
  "metadata": {
    "colab": {
      "provenance": [],
      "gpuType": "T4"
    },
    "kernelspec": {
      "name": "python3",
      "display_name": "Python 3"
    },
    "language_info": {
      "name": "python"
    },
    "accelerator": "GPU",
    "gpuClass": "standard"
  },
  "cells": [
    {
      "cell_type": "markdown",
      "source": [
        "Yalnızca tek bir katman içeren İleri Beslemeli Sinir Ağı modeli"
      ],
      "metadata": {
        "id": "u9yUQT93EqS6"
      }
    },
    {
      "cell_type": "markdown",
      "source": [
        "Gereksinimler:"
      ],
      "metadata": {
        "id": "cWe2CdC89mSv"
      }
    },
    {
      "cell_type": "code",
      "execution_count": null,
      "metadata": {
        "id": "B_XbbHU96Riv"
      },
      "outputs": [],
      "source": [
        "!pip install numpy\n",
        "!pip install opencv-python\n",
        "!pip install pandas\n",
        "!pip install tensorflow\n",
        "!pip install keras\n",
        "!pip install pillow"
      ]
    },
    {
      "cell_type": "markdown",
      "source": [
        "Veriyi zip'ten çıkarma:"
      ],
      "metadata": {
        "id": "nayrAeun-DLP"
      }
    },
    {
      "cell_type": "code",
      "source": [
        "import zipfile\n",
        "\n",
        "# zip dosyasının yolu\n",
        "zip_file_path = \"/content/drive/MyDrive/ChestXray.zip\"\n",
        "\n",
        "# zip dosyasını aç\n",
        "with zipfile.ZipFile(zip_file_path, 'r') as zip_ref:\n",
        "    zip_ref.extractall(\"/content/veri\")"
      ],
      "metadata": {
        "id": "b6YRcg9y9-tp"
      },
      "execution_count": 2,
      "outputs": []
    },
    {
      "cell_type": "markdown",
      "source": [
        "Veriyi parçalara bölme:"
      ],
      "metadata": {
        "id": "GvbX6E86-qyQ"
      }
    },
    {
      "cell_type": "code",
      "source": [
        "import os\n",
        "import shutil\n",
        "import random\n",
        "from PIL import Image\n",
        "\n",
        "#Olması beklenen yolları tanımla\n",
        "data_dir = '/content/veri/ChestXray'\n",
        "train_dir = 'train'\n",
        "test_dir = 'test'\n",
        "img_size=(256,256)\n",
        "# Class isimleri\n",
        "class_names = ['NORMAL', 'PNEUMONIA']\n",
        "\n",
        "os.makedirs(train_dir, exist_ok=True)\n",
        "os.makedirs(test_dir, exist_ok=True)\n",
        "\n",
        "for class_name in class_names:\n",
        "    train_subdir = os.path.join(train_dir, class_name)\n",
        "    test_subdir = os.path.join(test_dir, class_name)\n",
        "    os.makedirs(train_subdir, exist_ok=True)\n",
        "    os.makedirs(test_subdir, exist_ok=True)\n",
        "\n",
        "# Resimleri %80 oranla ilgili klasörlerin içine böl\n",
        "for class_name in class_names:\n",
        "    source_dir = os.path.join(data_dir, class_name)\n",
        "    images = os.listdir(source_dir)\n",
        "    train_size = int(0.8 * len(images))\n",
        "    random.shuffle(images)\n",
        "    train_images = images[:train_size]\n",
        "    test_images = images[train_size:]\n",
        "    for image_name in train_images:\n",
        "        source_path = os.path.join(source_dir, image_name)\n",
        "        target_path = os.path.join(train_dir, class_name, image_name)\n",
        "        with Image.open(source_path) as img:\n",
        "            img = img.resize((img_size[0], img_size[1]))\n",
        "            img.save(target_path)\n",
        "    for image_name in test_images:\n",
        "        source_path = os.path.join(source_dir, image_name)\n",
        "        target_path = os.path.join(test_dir, class_name, image_name)\n",
        "        with Image.open(source_path) as img:\n",
        "            img = img.resize((img_size[0], img_size[1]))\n",
        "            img.save(target_path)"
      ],
      "metadata": {
        "id": "eSpwhM79-vz4"
      },
      "execution_count": 3,
      "outputs": []
    },
    {
      "cell_type": "code",
      "source": [
        "import cv2\n",
        "\n",
        "image_path = \"/content/test/NORMAL/IM-0006-0001.jpeg\"\n",
        "image = cv2.imread(image_path)\n",
        "print(\"Resmin shape'i:\", image.shape)\n",
        "cv2.destroyAllWindows()"
      ],
      "metadata": {
        "colab": {
          "base_uri": "https://localhost:8080/"
        },
        "id": "TcqIEdtcdHdS",
        "outputId": "42728392-b3bf-4814-dfa6-cf4f4a6170f9"
      },
      "execution_count": 6,
      "outputs": [
        {
          "output_type": "stream",
          "name": "stdout",
          "text": [
            "Resmin shape'i: (256, 256, 3)\n"
          ]
        }
      ]
    },
    {
      "cell_type": "markdown",
      "source": [
        "Veri üzerinde normalizasyon:"
      ],
      "metadata": {
        "id": "Gxlm-Qn0A9Cw"
      }
    },
    {
      "cell_type": "code",
      "source": [
        "import numpy as np\n",
        "import tensorflow as tf\n",
        "from keras.preprocessing.image import ImageDataGenerator\n",
        "\n",
        "train_dir = '/content/train'\n",
        "test_dir = '/content/test'\n",
        "\n",
        "datagen = ImageDataGenerator(rescale=1./255)\n",
        "\n",
        "train_data = datagen.flow_from_directory(train_dir, target_size=(img_size[0], img_size[1]), batch_size=32, class_mode='binary')\n",
        "test_data = datagen.flow_from_directory(test_dir, target_size=(img_size[0], img_size[1]), batch_size=32, class_mode='binary')\n"
      ],
      "metadata": {
        "id": "cSFWVqGKA7oY",
        "colab": {
          "base_uri": "https://localhost:8080/"
        },
        "outputId": "a148ec77-560f-49ec-ce40-ff3c0242a0e8"
      },
      "execution_count": 7,
      "outputs": [
        {
          "output_type": "stream",
          "name": "stdout",
          "text": [
            "Found 2633 images belonging to 2 classes.\n",
            "Found 659 images belonging to 2 classes.\n"
          ]
        }
      ]
    },
    {
      "cell_type": "markdown",
      "source": [
        "Resnet50 modeli ve eğitim:"
      ],
      "metadata": {
        "id": "3nCVm0nqBpUn"
      }
    },
    {
      "cell_type": "code",
      "source": [
        "# CNN modelinin oluşturulması ve eğitilmesi\n",
        "from keras.applications import ResNet50\n",
        "from keras.layers import Dense, Flatten\n",
        "from keras.models import Model\n",
        "\n",
        "resnet = ResNet50(weights=None, include_top=True, input_shape=(img_size[0], img_size[1], 3))\n",
        "\n",
        "for layer in resnet.layers:\n",
        "    layer.trainable = False\n",
        "\n",
        "x = resnet.output\n",
        "x = Flatten()(x)\n",
        "predictions = Dense(1, activation='sigmoid')(x)\n",
        "\n",
        "model = Model(inputs=resnet.input, outputs=predictions)\n",
        "\n",
        "model.compile(optimizer='adam', loss='binary_crossentropy', metrics=['accuracy'])\n",
        "\n",
        "history = model.fit(train_data, epochs=30, validation_data=test_data)"
      ],
      "metadata": {
        "id": "4QYP1sVzBtag",
        "colab": {
          "base_uri": "https://localhost:8080/"
        },
        "outputId": "c673f7ad-f396-42a6-ce03-7f86248cae5a"
      },
      "execution_count": 8,
      "outputs": [
        {
          "output_type": "stream",
          "name": "stdout",
          "text": [
            "Epoch 1/30\n",
            "83/83 [==============================] - 28s 188ms/step - loss: 0.6929 - accuracy: 0.5161 - val_loss: 0.6926 - val_accuracy: 0.5190\n",
            "Epoch 2/30\n",
            "83/83 [==============================] - 13s 158ms/step - loss: 0.6927 - accuracy: 0.5192 - val_loss: 0.6925 - val_accuracy: 0.5190\n",
            "Epoch 3/30\n",
            "83/83 [==============================] - 13s 159ms/step - loss: 0.6925 - accuracy: 0.5192 - val_loss: 0.6924 - val_accuracy: 0.5190\n",
            "Epoch 4/30\n",
            "83/83 [==============================] - 13s 160ms/step - loss: 0.6925 - accuracy: 0.5192 - val_loss: 0.6924 - val_accuracy: 0.5190\n",
            "Epoch 5/30\n",
            "83/83 [==============================] - 14s 163ms/step - loss: 0.6925 - accuracy: 0.5192 - val_loss: 0.6924 - val_accuracy: 0.5190\n",
            "Epoch 6/30\n",
            "83/83 [==============================] - 14s 164ms/step - loss: 0.6924 - accuracy: 0.5192 - val_loss: 0.6924 - val_accuracy: 0.5190\n",
            "Epoch 7/30\n",
            "83/83 [==============================] - 14s 166ms/step - loss: 0.6925 - accuracy: 0.5192 - val_loss: 0.6924 - val_accuracy: 0.5190\n",
            "Epoch 8/30\n",
            "83/83 [==============================] - 14s 165ms/step - loss: 0.6925 - accuracy: 0.5192 - val_loss: 0.6924 - val_accuracy: 0.5190\n",
            "Epoch 9/30\n",
            "83/83 [==============================] - 14s 165ms/step - loss: 0.6925 - accuracy: 0.5192 - val_loss: 0.6924 - val_accuracy: 0.5190\n",
            "Epoch 10/30\n",
            "83/83 [==============================] - 14s 165ms/step - loss: 0.6924 - accuracy: 0.5192 - val_loss: 0.6924 - val_accuracy: 0.5190\n",
            "Epoch 11/30\n",
            "83/83 [==============================] - 14s 165ms/step - loss: 0.6924 - accuracy: 0.5192 - val_loss: 0.6924 - val_accuracy: 0.5190\n",
            "Epoch 12/30\n",
            "83/83 [==============================] - 14s 165ms/step - loss: 0.6925 - accuracy: 0.5192 - val_loss: 0.6924 - val_accuracy: 0.5190\n",
            "Epoch 13/30\n",
            "83/83 [==============================] - 14s 166ms/step - loss: 0.6925 - accuracy: 0.5192 - val_loss: 0.6924 - val_accuracy: 0.5190\n",
            "Epoch 14/30\n",
            "83/83 [==============================] - 14s 165ms/step - loss: 0.6925 - accuracy: 0.5192 - val_loss: 0.6924 - val_accuracy: 0.5190\n",
            "Epoch 15/30\n",
            "83/83 [==============================] - 14s 167ms/step - loss: 0.6925 - accuracy: 0.5192 - val_loss: 0.6924 - val_accuracy: 0.5190\n",
            "Epoch 16/30\n",
            "83/83 [==============================] - 14s 164ms/step - loss: 0.6925 - accuracy: 0.5192 - val_loss: 0.6924 - val_accuracy: 0.5190\n",
            "Epoch 17/30\n",
            "83/83 [==============================] - 14s 165ms/step - loss: 0.6925 - accuracy: 0.5192 - val_loss: 0.6924 - val_accuracy: 0.5190\n",
            "Epoch 18/30\n",
            "83/83 [==============================] - 14s 165ms/step - loss: 0.6925 - accuracy: 0.5192 - val_loss: 0.6924 - val_accuracy: 0.5190\n",
            "Epoch 19/30\n",
            "83/83 [==============================] - 14s 166ms/step - loss: 0.6925 - accuracy: 0.5192 - val_loss: 0.6924 - val_accuracy: 0.5190\n",
            "Epoch 20/30\n",
            "83/83 [==============================] - 14s 164ms/step - loss: 0.6925 - accuracy: 0.5192 - val_loss: 0.6924 - val_accuracy: 0.5190\n",
            "Epoch 21/30\n",
            "83/83 [==============================] - 16s 195ms/step - loss: 0.6925 - accuracy: 0.5192 - val_loss: 0.6924 - val_accuracy: 0.5190\n",
            "Epoch 22/30\n",
            "83/83 [==============================] - 14s 167ms/step - loss: 0.6926 - accuracy: 0.5192 - val_loss: 0.6924 - val_accuracy: 0.5190\n",
            "Epoch 23/30\n",
            "83/83 [==============================] - 14s 165ms/step - loss: 0.6925 - accuracy: 0.5192 - val_loss: 0.6924 - val_accuracy: 0.5190\n",
            "Epoch 24/30\n",
            "83/83 [==============================] - 14s 165ms/step - loss: 0.6925 - accuracy: 0.5192 - val_loss: 0.6924 - val_accuracy: 0.5190\n",
            "Epoch 25/30\n",
            "83/83 [==============================] - 14s 167ms/step - loss: 0.6925 - accuracy: 0.5192 - val_loss: 0.6924 - val_accuracy: 0.5190\n",
            "Epoch 26/30\n",
            "83/83 [==============================] - 14s 165ms/step - loss: 0.6925 - accuracy: 0.5192 - val_loss: 0.6924 - val_accuracy: 0.5190\n",
            "Epoch 27/30\n",
            "83/83 [==============================] - 14s 165ms/step - loss: 0.6926 - accuracy: 0.5192 - val_loss: 0.6924 - val_accuracy: 0.5190\n",
            "Epoch 28/30\n",
            "83/83 [==============================] - 14s 164ms/step - loss: 0.6925 - accuracy: 0.5192 - val_loss: 0.6924 - val_accuracy: 0.5190\n",
            "Epoch 29/30\n",
            "83/83 [==============================] - 14s 165ms/step - loss: 0.6924 - accuracy: 0.5192 - val_loss: 0.6924 - val_accuracy: 0.5190\n",
            "Epoch 30/30\n",
            "83/83 [==============================] - 14s 167ms/step - loss: 0.6925 - accuracy: 0.5192 - val_loss: 0.6924 - val_accuracy: 0.5190\n"
          ]
        }
      ]
    },
    {
      "cell_type": "markdown",
      "source": [
        "Loss-Accuracy tablosu:"
      ],
      "metadata": {
        "id": "hfibTuJWH518"
      }
    },
    {
      "cell_type": "code",
      "source": [
        "import pandas as pd\n",
        "df = pd.DataFrame(model.history.history)\n",
        "loss=df.drop([\"accuracy\",\"val_accuracy\"],axis=1)\n",
        "accuracy=df.drop([\"loss\",\"val_loss\"],axis=1)\n",
        "loss.plot()\n",
        "accuracy.plot()"
      ],
      "metadata": {
        "colab": {
          "base_uri": "https://localhost:8080/",
          "height": 860
        },
        "id": "NwTBt9vwH-EB",
        "outputId": "1d796a0a-5cee-4fe6-cbe2-ac562a89b4ca"
      },
      "execution_count": 10,
      "outputs": [
        {
          "output_type": "execute_result",
          "data": {
            "text/plain": [
              "<Axes: >"
            ]
          },
          "metadata": {},
          "execution_count": 10
        },
        {
          "output_type": "display_data",
          "data": {
            "text/plain": [
              "<Figure size 640x480 with 1 Axes>"
            ],
            "image/png": "[encoded data removed]"
          },
          "metadata": {}
        },
        {
          "output_type": "display_data",
          "data": {
            "text/plain": [
              "<Figure size 640x480 with 1 Axes>"
            ],
            "image/png": "[encoded data removed]"
          },
          "metadata": {}
        }
      ]
    },
    {
      "cell_type": "markdown",
      "source": [
        "Test:"
      ],
      "metadata": {
        "id": "UXyV4S7gCMEh"
      }
    },
    {
      "cell_type": "code",
      "source": [
        "loss, accuracy = model.evaluate(test_data)\n",
        "print('Test Loss:', loss)\n",
        "print('Test Accuracy:', accuracy)"
      ],
      "metadata": {
        "id": "YtO4pFA0CNpg",
        "colab": {
          "base_uri": "https://localhost:8080/"
        },
        "outputId": "d9571794-1c3f-4562-e414-896c9791479d"
      },
      "execution_count": 12,
      "outputs": [
        {
          "output_type": "stream",
          "name": "stdout",
          "text": [
            "21/21 [==============================] - 3s 129ms/step - loss: 0.6924 - accuracy: 0.5190\n",
            "Test Loss: 0.6924288272857666\n",
            "Test Accuracy: 0.5189681053161621\n"
          ]
        }
      ]
    }
  ]
}